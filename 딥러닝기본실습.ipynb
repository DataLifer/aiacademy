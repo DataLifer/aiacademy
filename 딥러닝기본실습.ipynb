{
  "nbformat": 4,
  "nbformat_minor": 0,
  "metadata": {
    "colab": {
      "name": "딥러닝기본실습.ipynb",
      "provenance": [],
      "authorship_tag": "ABX9TyMSwrDoV5h8fuXwLlqYrqUn",
      "include_colab_link": true
    },
    "kernelspec": {
      "name": "python3",
      "display_name": "Python 3"
    }
  },
  "cells": [
    {
      "cell_type": "markdown",
      "metadata": {
        "id": "view-in-github",
        "colab_type": "text"
      },
      "source": [
        "<a href=\"https://colab.research.google.com/github/glorykim999910/aiacademy/blob/master/%EB%94%A5%EB%9F%AC%EB%8B%9D%EA%B8%B0%EB%B3%B8%EC%8B%A4%EC%8A%B5.ipynb\" target=\"_parent\"><img src=\"https://colab.research.google.com/assets/colab-badge.svg\" alt=\"Open In Colab\"/></a>"
      ]
    },
    {
      "cell_type": "code",
      "metadata": {
        "id": "x_9iYLNxfu0B",
        "colab_type": "code",
        "colab": {
          "base_uri": "https://localhost:8080/",
          "height": 210
        },
        "outputId": "0e5f65f4-ef78-406c-82d8-a0bcc41e7230"
      },
      "source": [
        "# 텐서플로우를 활용한 시그모이드함수 함수 구현\n",
        "# 1. x = 1, y = 0\n",
        "import tensorflow as tf\n",
        "tf.compat.v1.set_random_seed(2020)\n",
        "\n",
        "x = 1\n",
        "y = 0\n",
        "w = tf.random.normal([1], 0, 1)\n",
        "\n",
        "import math\n",
        "def sigmoid(x):\n",
        "  return 1 / (1 + math.exp(-x))\n",
        "\n",
        "output = sigmoid( x * w)\n",
        "print(output)\n",
        "\n",
        "for i in range(1000):\n",
        "  output = sigmoid(x*w)\n",
        "  error = y - output #  기대출력 - 실제출력\n",
        "  w  = w  + x*0.1*error # 경사하강법\n",
        "\n",
        "  if i % 100 == 99:\n",
        "    print(\"학습횟수 : \", i, \"Error: \", error, \"예측결과 : \", output)\n"
      ],
      "execution_count": 5,
      "outputs": [
        {
          "output_type": "stream",
          "text": [
            "0.47477188589261\n",
            "학습횟수 :  99 Error:  -0.10010598284299604 예측결과 :  0.10010598284299604\n",
            "학습횟수 :  199 Error:  -0.05178399422833116 예측결과 :  0.05178399422833116\n",
            "학습횟수 :  299 Error:  -0.034590451977903586 예측결과 :  0.034590451977903586\n",
            "학습횟수 :  399 Error:  -0.02588962752851373 예측결과 :  0.02588962752851373\n",
            "학습횟수 :  499 Error:  -0.020658699939863617 예측결과 :  0.020658699939863617\n",
            "학습횟수 :  599 Error:  -0.017174253993457355 예측결과 :  0.017174253993457355\n",
            "학습횟수 :  699 Error:  -0.014689506449480992 예측결과 :  0.014689506449480992\n",
            "학습횟수 :  799 Error:  -0.012829497265431342 예측결과 :  0.012829497265431342\n",
            "학습횟수 :  899 Error:  -0.011385568271837804 예측결과 :  0.011385568271837804\n",
            "학습횟수 :  999 Error:  -0.010232493309882492 예측결과 :  0.010232493309882492\n"
          ],
          "name": "stdout"
        }
      ]
    },
    {
      "cell_type": "code",
      "metadata": {
        "id": "_gXrBki6jE9x",
        "colab_type": "code",
        "colab": {
          "base_uri": "https://localhost:8080/",
          "height": 193
        },
        "outputId": "760fc82c-4fb2-4f3f-ac1f-d5273a415f95"
      },
      "source": [
        "# 2. x = 0, y = 1일때 편향을 추가 \n",
        "x = 0\n",
        "y = 1\n",
        "w = tf.random.normal([1],0,1)\n",
        "b = tf.random.normal([1],0,1)\n",
        "\n",
        "for i in range(1000):\n",
        "  output = sigmoid(x*w+ 1*b)\n",
        "  error = y - output\n",
        "  w = w + x*0.1*error\n",
        "  b = b + 1*0.1*error\n",
        "\n",
        "  if i % 100 == 99:\n",
        "    print(\"힉습횟수 : \", i, \"Error : \", error, \"예측결과 : \", output)\n"
      ],
      "execution_count": 10,
      "outputs": [
        {
          "output_type": "stream",
          "text": [
            "힉습횟수 :  99 Error :  0.07634997645985608 예측결과 :  0.9236500235401439\n",
            "힉습횟수 :  199 Error :  0.04435077414635158 예측결과 :  0.9556492258536484\n",
            "힉습횟수 :  299 Error :  0.031060373259849117 예측결과 :  0.9689396267401509\n",
            "힉습횟수 :  399 Error :  0.02384536561719608 예측결과 :  0.9761546343828039\n",
            "힉습횟수 :  499 Error :  0.01933010227869003 예측결과 :  0.98066989772131\n",
            "힉습횟수 :  599 Error :  0.01624319839983568 예측결과 :  0.9837568016001643\n",
            "힉습횟수 :  699 Error :  0.014001532791276361 예측결과 :  0.9859984672087236\n",
            "힉습횟수 :  799 Error :  0.012300740158536771 예측결과 :  0.9876992598414632\n",
            "힉습횟수 :  899 Error :  0.010966660354540192 예측결과 :  0.9890333396454598\n",
            "힉습횟수 :  999 Error :  0.009892532357810402 예측결과 :  0.9901074676421896\n"
          ],
          "name": "stdout"
        }
      ]
    },
    {
      "cell_type": "code",
      "metadata": {
        "id": "Pmh8a4YtlR8c",
        "colab_type": "code",
        "colab": {
          "base_uri": "https://localhost:8080/",
          "height": 34
        },
        "outputId": "e4e156ab-c2e4-4907-e86a-f7090c9949b2"
      },
      "source": [
        "\\"
      ],
      "execution_count": 16,
      "outputs": [
        {
          "output_type": "execute_result",
          "data": {
            "text/plain": [
              "array([0, 0])"
            ]
          },
          "metadata": {
            "tags": []
          },
          "execution_count": 16
        }
      ]
    },
    {
      "cell_type": "code",
      "metadata": {
        "id": "MOH-_2MBjzSg",
        "colab_type": "code",
        "colab": {
          "base_uri": "https://localhost:8080/",
          "height": 87
        },
        "outputId": "3213c8a6-5f16-4eb0-d3c8-244cb1d430e3"
      },
      "source": [
        "# AND연산\n",
        "import numpy as np\n",
        "x = np.array([[1,1],[1,0],[0,1],[0,0]])\n",
        "y = np.array([[1],[0],[0],[0]])\n",
        "w = tf.random.normal([2],0,1)\n",
        "b = tf.random.normal([1],0,1)\n",
        "b_x = 1\n",
        "\n",
        "for i in range(2000):\n",
        "  error_sum = 0\n",
        "  for j in range(4):\n",
        "    output = sigmoid(np.sum(x[j]*w)+b_x*b)\n",
        "    error = y[j][0] - output\n",
        "    w = w + x[j]*0.1*error\n",
        "    b = b + b_x*0.1*error\n",
        "    error_sum += error\n",
        "\n",
        "\n",
        "for i in range(4):\n",
        "  print('x:' , x[i], 'Y:', y[i], 'output:', sigmoid(np.sum(x[i]*w)+ b))\n",
        "\n"
      ],
      "execution_count": 11,
      "outputs": [
        {
          "output_type": "stream",
          "text": [
            "x: [1 1] Y: [1] output: 0.9656435887582777\n",
            "x: [1 0] Y: [0] output: 0.024351434078268203\n",
            "x: [0 1] Y: [0] output: 0.024424248944685503\n",
            "x: [0 0] Y: [0] output: 2.223169771193655e-05\n"
          ],
          "name": "stdout"
        }
      ]
    },
    {
      "cell_type": "code",
      "metadata": {
        "id": "xZHL2iGtlxJQ",
        "colab_type": "code",
        "colab": {
          "base_uri": "https://localhost:8080/",
          "height": 87
        },
        "outputId": "d9594bd6-6f1b-4842-e879-b00f0f2999de"
      },
      "source": [
        "# OR 연산\n",
        "import numpy as np\n",
        "\n",
        "x = np.array([[1,1], [1,0], [0,1],[0,0]])\n",
        "y = np.array([[0],[1],[1],[1]])\n",
        "w = tf.random.normal([2],0,1)\n",
        "b = tf.random.normal([1],0,1)\n",
        "b_x = 1\n",
        "\n",
        "\n",
        "for i in range(2000):\n",
        "  error_sum = 0\n",
        "  for j in range(4):\n",
        "    output = sigmoid(np.sum(x[j]*w)+b_x*b)\n",
        "    error = y[j] - output\n",
        "    w = w+x[j]*0.1*error\n",
        "    b = b+b_x*0.1*error\n",
        "    error_sum += error\n",
        "\n",
        "for i in range(4):\n",
        "  print('x:' , x[i], 'Y:', y[i], 'output : ', sigmoid(np.sum(x[i]*w)+b))"
      ],
      "execution_count": 18,
      "outputs": [
        {
          "output_type": "stream",
          "text": [
            "x: [1 1] Y: [0] output :  0.03515655492411844\n",
            "x: [1 0] Y: [1] output :  0.975087190285771\n",
            "x: [0 1] Y: [1] output :  0.9750108577579979\n",
            "x: [0 0] Y: [1] output :  0.999976140559525\n"
          ],
          "name": "stdout"
        }
      ]
    }
  ]
}