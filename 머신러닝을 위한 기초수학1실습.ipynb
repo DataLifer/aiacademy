{
  "nbformat": 4,
  "nbformat_minor": 0,
  "metadata": {
    "colab": {
      "name": "머신러닝을 위한 기초수학1실습.ipynb",
      "provenance": [],
      "authorship_tag": "ABX9TyN5YViC7/oZX//RpxfJ2yPV",
      "include_colab_link": true
    },
    "kernelspec": {
      "name": "python3",
      "display_name": "Python 3"
    }
  },
  "cells": [
    {
      "cell_type": "markdown",
      "metadata": {
        "id": "view-in-github",
        "colab_type": "text"
      },
      "source": [
        "<a href=\"https://colab.research.google.com/github/glorykim999910/aiacademy/blob/master/%EB%A8%B8%EC%8B%A0%EB%9F%AC%EB%8B%9D%EC%9D%84%20%EC%9C%84%ED%95%9C%20%EA%B8%B0%EC%B4%88%EC%88%98%ED%95%991%EC%8B%A4%EC%8A%B5.ipynb\" target=\"_parent\"><img src=\"https://colab.research.google.com/assets/colab-badge.svg\" alt=\"Open In Colab\"/></a>"
      ]
    },
    {
      "cell_type": "code",
      "metadata": {
        "id": "zgsnBSU63JdB",
        "colab_type": "code",
        "colab": {
          "base_uri": "https://localhost:8080/",
          "height": 70
        },
        "outputId": "5a94a630-3eda-4f55-b8ef-13185921a49c"
      },
      "source": [
        "import numpy as np\n",
        "from scipy import stats\n",
        "\n",
        "np.random.seed(0)\n",
        "\n",
        "# 정규분포가 아닌값\n",
        "data_A = np.random.randint(0,100 , 10000)\n",
        "data_A\n",
        "\n",
        "mean = np.mean(data_A)\n",
        "median = np.median(data_A)\n",
        "mode = stats.mode(data_A)\n",
        "\n",
        "print(\"평균값 : \", mean.round(2))\n",
        "print(\"중앙값 : \", median)\n",
        "print(\"최빈값 : {} ({})\". format(mode[0][0], mode[1][0]))"
      ],
      "execution_count": 7,
      "outputs": [
        {
          "output_type": "stream",
          "text": [
            "평균값 :  49.17\n",
            "중앙값 :  49.0\n",
            "최빈값 : 3 (125)\n"
          ],
          "name": "stdout"
        }
      ]
    },
    {
      "cell_type": "code",
      "metadata": {
        "id": "QKMLONc25cm-",
        "colab_type": "code",
        "colab": {
          "base_uri": "https://localhost:8080/",
          "height": 70
        },
        "outputId": "c5a6e122-ef43-4d15-f0da-94c3b870b1b1"
      },
      "source": [
        "# 정규분포값 \n",
        "data_B = np.random.normal(size =100)\n",
        "\n",
        "mean = np.mean(data_B)\n",
        "median = np.median(data_B)\n",
        "mode = stats.mode(data_B)\n",
        "\n",
        "print(\"평균값 : \", mean.round(2))\n",
        "print(\"중앙값 : \", median)\n",
        "print(\"최빈값 : {} ({})\". format(mode[0][0], mode[1][0]))\n"
      ],
      "execution_count": 8,
      "outputs": [
        {
          "output_type": "stream",
          "text": [
            "평균값 :  -0.03\n",
            "중앙값 :  -0.1024051532970941\n",
            "최빈값 : -2.862292431709955 (1)\n"
          ],
          "name": "stdout"
        }
      ]
    },
    {
      "cell_type": "code",
      "metadata": {
        "id": "TmNevTNZ6sUK",
        "colab_type": "code",
        "colab": {
          "base_uri": "https://localhost:8080/",
          "height": 52
        },
        "outputId": "37a8da0e-e78d-4a28-8688-9733c41eb457"
      },
      "source": [
        "# 분산과 표준편차\n",
        "data_A_var = np.var(data_A)\n",
        "data_A_std = np.std(data_A)\n",
        "\n",
        "print(\"분산 : \", data_A_var.round(2))\n",
        "print(\"표준편차 : \", data_A_std.round(2))"
      ],
      "execution_count": 9,
      "outputs": [
        {
          "output_type": "stream",
          "text": [
            "분산 :  833.0\n",
            "표준편차 :  28.86\n"
          ],
          "name": "stdout"
        }
      ]
    },
    {
      "cell_type": "code",
      "metadata": {
        "id": "EmWoPJ5p7EIs",
        "colab_type": "code",
        "colab": {
          "base_uri": "https://localhost:8080/",
          "height": 175
        },
        "outputId": "a3bb3791-62f1-407c-800e-0af5028dd4f3"
      },
      "source": [
        "# 사분위수 : 데이터 이상치탐색과 중심위치 및 분포를 빠르게 파악, 두 객체들간의 비교가 가능하게 한다.\n",
        "\n",
        "import pandas as pd\n",
        "\n",
        "store_a = pd.Series([20,21,23,22,26,28,35,35,41,42,43,45,44,45,46,47,47,46,47,58,58,59,60,56,57,57,80])\n",
        "store_b = pd.Series([5,6,11,13,15,16,20,20,21,23,22,27,27,30,30,32,36,37,37,40,40,43,44,45,51,54,70,600])\n",
        "\n",
        "A_Q1 = store_a.quantile(0.25) ; print(\"1사분위수 : \", A_Q1)\n",
        "A_Q2 = store_a.quantile(0.50) ; print(\"2사분위수 : \", A_Q2)\n",
        "A_Q3 = store_a.quantile(0.75) ; print(\"3사분위수 : \", A_Q3)\n",
        "A_Q4 = store_a.quantile(1.00) ; print(\"4사분위수 : \", A_Q4)\n",
        "print(\"-\"*20)\n",
        "B_Q1 = store_b.quantile(0.25) ; print(\"1사분위수 : \", B_Q1)\n",
        "B_Q2 = store_b.quantile(0.50) ; print(\"2사분위수 : \", B_Q2)\n",
        "B_Q3 = store_b.quantile(0.75) ; print(\"3사분위수 : \", B_Q3)\n",
        "B_Q4 = store_b.quantile(1.00) ; print(\"4사분위수 : \", B_Q4)"
      ],
      "execution_count": 14,
      "outputs": [
        {
          "output_type": "stream",
          "text": [
            "1사분위수 :  35.0\n",
            "2사분위수 :  45.0\n",
            "3사분위수 :  56.5\n",
            "4사분위수 :  80.0\n",
            "--------------------\n",
            "1사분위수 :  20.0\n",
            "2사분위수 :  30.0\n",
            "3사분위수 :  40.75\n",
            "4사분위수 :  600.0\n"
          ],
          "name": "stdout"
        }
      ]
    },
    {
      "cell_type": "code",
      "metadata": {
        "id": "7PKluqnN8lBB",
        "colab_type": "code",
        "colab": {
          "base_uri": "https://localhost:8080/",
          "height": 265
        },
        "outputId": "d6caa52f-2476-498a-b23e-54d14385db59"
      },
      "source": [
        "import matplotlib.pyplot as plt\n",
        "\n",
        "# a사의 데이터 박스플롯 \n",
        "plt.boxplot((store_a))\n",
        "plt.grid()\n",
        "plt.show()"
      ],
      "execution_count": 15,
      "outputs": [
        {
          "output_type": "display_data",
          "data": {
            "image/png": "[encoded data removed]",
            "text/plain": [
              "<Figure size 432x288 with 1 Axes>"
            ]
          },
          "metadata": {
            "tags": [],
            "needs_background": "light"
          }
        }
      ]
    },
    {
      "cell_type": "code",
      "metadata": {
        "id": "J3v0wel08za3",
        "colab_type": "code",
        "colab": {
          "base_uri": "https://localhost:8080/",
          "height": 265
        },
        "outputId": "9734532f-b4b6-4852-cf25-5abfcb55b236"
      },
      "source": [
        "plt.boxplot((store_b))\n",
        "plt.grid()\n",
        "plt.show() #  문제발생. 이상치가 600이므로 삭제해야함 \n"
      ],
      "execution_count": 16,
      "outputs": [
        {
          "output_type": "display_data",
          "data": {
            "image/png": "[encoded data removed]",
            "text/plain": [
              "<Figure size 432x288 with 1 Axes>"
            ]
          },
          "metadata": {
            "tags": [],
            "needs_background": "light"
          }
        }
      ]
    },
    {
      "cell_type": "code",
      "metadata": {
        "id": "mSV5sVlt9C6L",
        "colab_type": "code",
        "colab": {
          "base_uri": "https://localhost:8080/",
          "height": 265
        },
        "outputId": "da59a40e-953e-4a54-cc64-8b6dc8986649"
      },
      "source": [
        "store_b = pd.Series([5,6,11,13,15,16,20,20,21,23,22,27,27,30,30,32,36,37,37,40,40,43,44,45,51,54,70])\n",
        "\n",
        "plt.boxplot((store_a, store_b))\n",
        "plt.grid()\n",
        "plt.show()\n",
        "\n"
      ],
      "execution_count": 19,
      "outputs": [
        {
          "output_type": "display_data",
          "data": {
            "image/png": "[encoded data removed]",
            "text/plain": [
              "<Figure size 432x288 with 1 Axes>"
            ]
          },
          "metadata": {
            "tags": [],
            "needs_background": "light"
          }
        }
      ]
    },
    {
      "cell_type": "code",
      "metadata": {
        "id": "Zus88Upk9Rt5",
        "colab_type": "code",
        "colab": {
          "base_uri": "https://localhost:8080/",
          "height": 318
        },
        "outputId": "1caaa70e-fc0f-4b30-9d51-6b9face938c8"
      },
      "source": [
        "# 4분범위 IQR = Q3 - Q1\n",
        "\n",
        "box_num = pd.Series([16,21,22,23,24,25,30])\n",
        "\n",
        "plt.boxplot(box_num)\n",
        "plt.grid()\n",
        "plt.show()\n",
        "\n",
        "# print(box_num.describe())\n",
        "\n",
        "Q1 = box_num.quantile(0.25) \n",
        "Q2 = box_num.quantile(0.5)\n",
        "Q3 = box_num.quantile(0.75)\n",
        "Q4 = box_num.quantile(1)\n",
        "\n",
        "\n",
        "IQR = Q3 - Q1\n",
        "print(\"IQR : \", IQR)\n",
        "STEP1 = IQR * 1.5\n",
        "print(\"STEP1 : \", STEP1)\n",
        "\n"
      ],
      "execution_count": 26,
      "outputs": [
        {
          "output_type": "display_data",
          "data": {
            "image/png": "[encoded data removed]",
            "text/plain": [
              "<Figure size 432x288 with 1 Axes>"
            ]
          },
          "metadata": {
            "tags": [],
            "needs_background": "light"
          }
        },
        {
          "output_type": "stream",
          "text": [
            "IQR :  3.0\n",
            "STEP1 :  4.5\n",
            "17.0\n"
          ],
          "name": "stdout"
        }
      ]
    },
    {
      "cell_type": "code",
      "metadata": {
        "id": "nKDEZcS0-x0e",
        "colab_type": "code",
        "colab": {
          "base_uri": "https://localhost:8080/",
          "height": 52
        },
        "outputId": "eabd3789-f325-4d29-d2b6-6d2eae19ee39"
      },
      "source": [
        "# 하단이상치\n",
        "Lower_fence = Q1 - STEP1\n",
        "print(Lower_fence) \n",
        "\n",
        "# 상단이상치\n",
        "Upper_fence = Q3 + STEP1\n",
        "print(Upper_fence)"
      ],
      "execution_count": 28,
      "outputs": [
        {
          "output_type": "stream",
          "text": [
            "17.0\n",
            "29.0\n"
          ],
          "name": "stdout"
        }
      ]
    },
    {
      "cell_type": "code",
      "metadata": {
        "id": "4dy-ikIA_CEe",
        "colab_type": "code",
        "colab": {}
      },
      "source": [
        ""
      ],
      "execution_count": null,
      "outputs": []
    }
  ]
}