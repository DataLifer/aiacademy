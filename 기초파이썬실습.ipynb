{
  "nbformat": 4,
  "nbformat_minor": 0,
  "metadata": {
    "colab": {
      "name": "기초 파이썬 실습.ipynb",
      "provenance": [],
      "authorship_tag": "ABX9TyOXB8BzMOxbeQN3wyeMKXib",
      "include_colab_link": true
    },
    "kernelspec": {
      "name": "python3",
      "display_name": "Python 3"
    }
  },
  "cells": [
    {
      "cell_type": "markdown",
      "metadata": {
        "id": "view-in-github",
        "colab_type": "text"
      },
      "source": [
        "<a href=\"https://colab.research.google.com/github/glorykim999910/aiacademy/blob/master/%EA%B8%B0%EC%B4%88%ED%8C%8C%EC%9D%B4%EC%8D%AC%EC%8B%A4%EC%8A%B5.ipynb\" target=\"_parent\"><img src=\"https://colab.research.google.com/assets/colab-badge.svg\" alt=\"Open In Colab\"/></a>"
      ]
    },
    {
      "cell_type": "markdown",
      "metadata": {
        "id": "-yPVzbMCgk76",
        "colab_type": "text"
      },
      "source": [
        "# 기초 파이썬 실습하기"
      ]
    },
    {
      "cell_type": "code",
      "metadata": {
        "id": "E5zhD8SBirYU",
        "colab_type": "code",
        "colab": {
          "base_uri": "https://localhost:8080/",
          "height": 122
        },
        "outputId": "5a65f9e4-bd1f-4a62-d7ef-4f52d8837248"
      },
      "source": [
        "# 파이썬의 기본 4칙연산\n",
        "print(2+3)\n",
        "print(2*3)\n",
        "print(2**3)\n",
        "print(13/2)\n",
        "print(13//2)\n",
        "print(11%2)"
      ],
      "execution_count": 3,
      "outputs": [
        {
          "output_type": "stream",
          "text": [
            "5\n",
            "6\n",
            "8\n",
            "6.5\n",
            "6\n",
            "1\n"
          ],
          "name": "stdout"
        }
      ]
    },
    {
      "cell_type": "code",
      "metadata": {
        "id": "uV9fyqIRjMDG",
        "colab_type": "code",
        "colab": {
          "base_uri": "https://localhost:8080/",
          "height": 87
        },
        "outputId": "640f9cad-7edc-45e4-f350-e21af2b96bce"
      },
      "source": [
        "# 파이썬의 복소수표현\n",
        "\n",
        "print(1.2+3.4j)\n",
        "print((1.2+3.4j)*2)\n",
        "print((1+2j)*(1-2j))\n",
        "print((1.2+3.4j+2.3+4.5j))\n"
      ],
      "execution_count": 4,
      "outputs": [
        {
          "output_type": "stream",
          "text": [
            "(1.2+3.4j)\n",
            "(2.4+6.8j)\n",
            "(5+0j)\n",
            "(3.5+7.9j)\n"
          ],
          "name": "stdout"
        }
      ]
    },
    {
      "cell_type": "code",
      "metadata": {
        "id": "p783lv-Ij2ah",
        "colab_type": "code",
        "colab": {
          "base_uri": "https://localhost:8080/",
          "height": 87
        },
        "outputId": "08fb2c26-96fa-4021-aa8a-5f88d352bd8a"
      },
      "source": [
        "# 파이썬의 타입확인하기\n",
        "print(type(3))\n",
        "print(type(3.4))\n",
        "print(type(2+3j))\n",
        "print(type('abc'))\n"
      ],
      "execution_count": 8,
      "outputs": [
        {
          "output_type": "stream",
          "text": [
            "<class 'int'>\n",
            "<class 'float'>\n",
            "<class 'complex'>\n",
            "<class 'str'>\n"
          ],
          "name": "stdout"
        }
      ]
    },
    {
      "cell_type": "code",
      "metadata": {
        "id": "KimwyhEQkKvu",
        "colab_type": "code",
        "colab": {
          "base_uri": "https://localhost:8080/",
          "height": 246
        },
        "outputId": "b980a7e7-883f-47d2-8836-b0603132b444"
      },
      "source": [
        "# 파이썬의 명령어 혹은 예약어 확인하기\n",
        "help('keywords')"
      ],
      "execution_count": 9,
      "outputs": [
        {
          "output_type": "stream",
          "text": [
            "\n",
            "Here is a list of the Python keywords.  Enter any keyword to get more help.\n",
            "\n",
            "False               def                 if                  raise\n",
            "None                del                 import              return\n",
            "True                elif                in                  try\n",
            "and                 else                is                  while\n",
            "as                  except              lambda              with\n",
            "assert              finally             nonlocal            yield\n",
            "break               for                 not                 \n",
            "class               from                or                  \n",
            "continue            global              pass                \n",
            "\n"
          ],
          "name": "stdout"
        }
      ]
    },
    {
      "cell_type": "code",
      "metadata": {
        "id": "8diQTJI7ka0s",
        "colab_type": "code",
        "colab": {
          "base_uri": "https://localhost:8080/",
          "height": 70
        },
        "outputId": "1d7bd0fb-93cc-4aac-c387-d0a73541c334"
      },
      "source": [
        "# 리스트\n",
        "# 장점 : 저장할 수 있는 깊이와 제약이 없고 리스트 안에 리스트가 존재할 수 있음. 다차원데이터에서 활용\n",
        "a = [3,1,4,2,5]\n",
        "print(len(a))\n",
        "print(a[0])\n",
        "print(a[-2])"
      ],
      "execution_count": 36,
      "outputs": [
        {
          "output_type": "stream",
          "text": [
            "5\n",
            "3\n",
            "2\n"
          ],
          "name": "stdout"
        }
      ]
    },
    {
      "cell_type": "code",
      "metadata": {
        "id": "pRBT38ynkcph",
        "colab_type": "code",
        "colab": {
          "base_uri": "https://localhost:8080/",
          "height": 70
        },
        "outputId": "d2e892d1-5221-4d55-f1a7-91080fc92c8c"
      },
      "source": [
        "# 리스트안에 다른타입의 값을 삽입 가능\n",
        "b = [ 1, 2.0, 3+4j, \"abc\", [-1,1]]\n",
        "\n",
        "# 인덱싱\n",
        "print(b)\n",
        "print(b[2])\n",
        "print(b[-1])\n"
      ],
      "execution_count": 17,
      "outputs": [
        {
          "output_type": "stream",
          "text": [
            "[1, 2.0, (3+4j), 'abc', [-1, 1]]\n",
            "(3+4j)\n",
            "[-1, 1]\n"
          ],
          "name": "stdout"
        }
      ]
    },
    {
      "cell_type": "code",
      "metadata": {
        "id": "4piE70P8lGmJ",
        "colab_type": "code",
        "colab": {
          "base_uri": "https://localhost:8080/",
          "height": 122
        },
        "outputId": "c95b53fc-a2f4-4a65-d030-b8bc742cfadf"
      },
      "source": [
        "# 슬라이싱\n",
        "c = [ 1, 2,  5, 6, 7]\n",
        "print(c[1:3])\n",
        "print(c[2:])\n",
        "print(c[:3])\n",
        "print(c[:-3])\n",
        "print(c[2:-1])"
      ],
      "execution_count": 27,
      "outputs": [
        {
          "output_type": "stream",
          "text": [
            "[2, 5]\n",
            "[5, 6, 7]\n",
            "[1, 2, 5]\n",
            "[1, 2]\n",
            "[5, 6]\n",
            "5\n"
          ],
          "name": "stdout"
        }
      ]
    },
    {
      "cell_type": "code",
      "metadata": {
        "id": "43iYLcmVphU8",
        "colab_type": "code",
        "colab": {
          "base_uri": "https://localhost:8080/",
          "height": 52
        },
        "outputId": "fc1f06fb-7d8a-4a9c-f16f-50bc4e86612f"
      },
      "source": [
        "# 튜플은 요소를 변경불능(삽입,수정,삭제 불능), 리스트속도가 빠름\n",
        "tuple_data = (1,2,3,4,5)\n",
        "print(tuple_data)\n",
        "\n",
        "type(tuple_data)"
      ],
      "execution_count": 29,
      "outputs": [
        {
          "output_type": "stream",
          "text": [
            "(1, 2, 3, 4, 5)\n"
          ],
          "name": "stdout"
        },
        {
          "output_type": "execute_result",
          "data": {
            "text/plain": [
              "tuple"
            ]
          },
          "metadata": {
            "tags": []
          },
          "execution_count": 29
        }
      ]
    },
    {
      "cell_type": "code",
      "metadata": {
        "id": "J6StYut3p76c",
        "colab_type": "code",
        "colab": {
          "base_uri": "https://localhost:8080/",
          "height": 34
        },
        "outputId": "c3e51392-bc09-44e1-da81-663ac4b09530"
      },
      "source": [
        "# 조건문\n",
        "a = 3\n",
        "if a == 3:\n",
        "  print(\"a는 3입니다\")\n",
        "else :\n",
        "  print(\"a는 3이아닙니다\")\n"
      ],
      "execution_count": 30,
      "outputs": [
        {
          "output_type": "stream",
          "text": [
            "a는 3입니다\n"
          ],
          "name": "stdout"
        }
      ]
    },
    {
      "cell_type": "code",
      "metadata": {
        "id": "1dOALJrHpzHf",
        "colab_type": "code",
        "colab": {
          "base_uri": "https://localhost:8080/",
          "height": 70
        },
        "outputId": "685ea3b9-7148-49aa-d185-5fa1f41b3e96"
      },
      "source": [
        "# 반복문\n",
        "for i in range(3):\n",
        "  print(i)"
      ],
      "execution_count": 31,
      "outputs": [
        {
          "output_type": "stream",
          "text": [
            "0\n",
            "1\n",
            "2\n"
          ],
          "name": "stdout"
        }
      ]
    },
    {
      "cell_type": "code",
      "metadata": {
        "id": "tyjXW0ZqqOPh",
        "colab_type": "code",
        "colab": {
          "base_uri": "https://localhost:8080/",
          "height": 70
        },
        "outputId": "64490a57-8f52-41e1-e6be-eec91a82e5a7"
      },
      "source": [
        "for i,e in enumerate([5,3,7]):\n",
        "  print(i, \":\", e)"
      ],
      "execution_count": 33,
      "outputs": [
        {
          "output_type": "stream",
          "text": [
            "0 : 5\n",
            "1 : 3\n",
            "2 : 7\n"
          ],
          "name": "stdout"
        }
      ]
    },
    {
      "cell_type": "code",
      "metadata": {
        "id": "T3BxtdtwqfXA",
        "colab_type": "code",
        "colab": {
          "base_uri": "https://localhost:8080/",
          "height": 87
        },
        "outputId": "4f930a4b-005a-4315-b32b-1e999b49a24f"
      },
      "source": [
        "i = 0\n",
        "while i < 4:\n",
        "  print(i)\n",
        "  i+= 1"
      ],
      "execution_count": 34,
      "outputs": [
        {
          "output_type": "stream",
          "text": [
            "0\n",
            "1\n",
            "2\n",
            "3\n"
          ],
          "name": "stdout"
        }
      ]
    },
    {
      "cell_type": "code",
      "metadata": {
        "id": "UWzK6wYPraoH",
        "colab_type": "code",
        "colab": {
          "base_uri": "https://localhost:8080/",
          "height": 70
        },
        "outputId": "47757d32-977b-41b8-83a6-e12dbd84eca1"
      },
      "source": [
        "# 제어문과 반복문 => 클래스와 함수\n",
        "\n",
        "\n",
        "def print_hello():\n",
        "  print('HI, AI')\n",
        "  print('it\\'s me')\n",
        "\n",
        "# 함수출력\n",
        "print_hello()\n",
        "\n",
        "\n",
        "def my_sum(a,b):\n",
        "  res = a + b\n",
        "  return res\n",
        "\n",
        "# 함수값 반환\n",
        "res = my_sum(10,15)\n",
        "print(res)"
      ],
      "execution_count": 39,
      "outputs": [
        {
          "output_type": "stream",
          "text": [
            "HI, AI\n",
            "it's me\n",
            "25\n"
          ],
          "name": "stdout"
        }
      ]
    },
    {
      "cell_type": "code",
      "metadata": {
        "id": "e5MoI29Mras8",
        "colab_type": "code",
        "colab": {}
      },
      "source": [
        "# 내장함수의 종류\n",
        "a = [1,2,3,4,5]\n",
        "len(a)\n",
        "\n",
        "a = input(\"your input: \")\n",
        "\n",
        "range(0,3,1)\n"
      ],
      "execution_count": null,
      "outputs": []
    },
    {
      "cell_type": "code",
      "metadata": {
        "id": "_iRI8S2yrazw",
        "colab_type": "code",
        "colab": {
          "base_uri": "https://localhost:8080/",
          "height": 193
        },
        "outputId": "7360333e-95b6-4485-e5be-7b9e592c261c"
      },
      "source": [
        "# 클래스 정의\n",
        "class Email:\n",
        "  sender = \"\"\n",
        "\n",
        "  def send_mail(self, recv, subject, contents):\n",
        "    print(\"From:\\t\" + self.sender)\n",
        "    print(\"To:\\t\"+ recv)\n",
        "    print(\"Subject:\" + subject)\n",
        "    print(contents)\n",
        "    print(\"-\"*20)\n",
        "\n",
        "\n",
        "e = Email()\n",
        "e.sender = \"airim@naver.com\"\n",
        "recv_list = [\"gwangjuai_1@naver.com\", \"gwangjuai_2@naver.com\"]\n",
        "\n",
        "for recv in recv_list:\n",
        "  e.send_mail(recv, \"광주인공지능사관학교에 오신것을 환영!\", \"이번 온라인강의는 함수와 클래스입니다\")\n",
        "\n"
      ],
      "execution_count": 40,
      "outputs": [
        {
          "output_type": "stream",
          "text": [
            "From:\tairim@naver.com\n",
            "To:\tgwangjuai_1@naver.com\n",
            "Subject:광주인공지능사관학교에 오신것을 환영!\n",
            "이번 온라인강의는 함수와 클래스입니다\n",
            "--------------------\n",
            "From:\tairim@naver.com\n",
            "To:\tgwangjuai_2@naver.com\n",
            "Subject:광주인공지능사관학교에 오신것을 환영!\n",
            "이번 온라인강의는 함수와 클래스입니다\n",
            "--------------------\n"
          ],
          "name": "stdout"
        }
      ]
    },
    {
      "cell_type": "code",
      "metadata": {
        "id": "5IIMOljft5ai",
        "colab_type": "code",
        "colab": {
          "base_uri": "https://localhost:8080/",
          "height": 281
        },
        "outputId": "d0008e22-a69d-4394-dcff-abfa629cf9da"
      },
      "source": [
        "# 클래스활용\n",
        "\n",
        "from my_email import Email\n",
        "\n",
        "e = Email()\n",
        "e.sender = \"air@naver.com\"\n",
        "recv_list = [\"gwangju@naver.com\", \"gwangju1@naver.com\", \"gwangju2@naver.com\"]\n",
        "\n",
        "for recv in recv_list:\n",
        "  e.send_mail(recv, \"안녕하세요!!\", \"테스트중입니다\")"
      ],
      "execution_count": 47,
      "outputs": [
        {
          "output_type": "stream",
          "text": [
            "From:\tair@naver.com\n",
            "To:\tgwangju@naver.com\n",
            "Subject:안녕하세요!!\n",
            "테스트중입니다\n",
            "--------------------\n",
            "From:\tair@naver.com\n",
            "To:\tgwangju1@naver.com\n",
            "Subject:안녕하세요!!\n",
            "테스트중입니다\n",
            "--------------------\n",
            "From:\tair@naver.com\n",
            "To:\tgwangju2@naver.com\n",
            "Subject:안녕하세요!!\n",
            "테스트중입니다\n",
            "--------------------\n"
          ],
          "name": "stdout"
        }
      ]
    },
    {
      "cell_type": "code",
      "metadata": {
        "id": "JaXQ_3NJra6I",
        "colab_type": "code",
        "colab": {}
      },
      "source": [
        ""
      ],
      "execution_count": null,
      "outputs": []
    }
  ]
}