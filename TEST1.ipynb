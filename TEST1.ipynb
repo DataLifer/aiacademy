{
  "nbformat": 4,
  "nbformat_minor": 0,
  "metadata": {
    "colab": {
      "name": "Untitled0.ipynb",
      "provenance": [],
      "collapsed_sections": [],
      "authorship_tag": "ABX9TyOdY7RRKVDB09900Hw/Ku4l",
      "include_colab_link": true
    },
    "kernelspec": {
      "name": "python3",
      "display_name": "Python 3"
    }
  },
  "cells": [
    {
      "cell_type": "markdown",
      "metadata": {
        "id": "view-in-github",
        "colab_type": "text"
      },
      "source": [
        "<a href=\"https://colab.research.google.com/github/glorykim999910/aiacademy/blob/master/TEST1.ipynb\" target=\"_parent\"><img src=\"https://colab.research.google.com/assets/colab-badge.svg\" alt=\"Open In Colab\"/></a>"
      ]
    },
    {
      "cell_type": "markdown",
      "metadata": {
        "id": "Bw8IOxQ7t_Tb",
        "colab_type": "text"
      },
      "source": [
        ""
      ]
    },
    {
      "cell_type": "markdown",
      "metadata": {
        "id": "dF_Svs50uA7z",
        "colab_type": "text"
      },
      "source": [
        "1강 요약정리\n",
        "* 파이썬 자료형\n"
      ]
    },
    {
      "cell_type": "code",
      "metadata": {
        "id": "CwV0KJ6iuKjl",
        "colab_type": "code",
        "outputId": "54cad97c-6b45-4144-b91a-5a4f6b400855",
        "colab": {
          "base_uri": "https://localhost:8080/",
          "height": 34
        }
      },
      "source": [
        "mystr = \"hello\"\n",
        "myint = 123\n",
        "mylist=  [True, False, True]\n",
        "\n",
        "print(type(mystr), type(myint), type(mylist))\n"
      ],
      "execution_count": 0,
      "outputs": [
        {
          "output_type": "stream",
          "text": [
            "<class 'str'> <class 'int'> <class 'list'>\n"
          ],
          "name": "stdout"
        }
      ]
    },
    {
      "cell_type": "markdown",
      "metadata": {
        "id": "3N7aqBzrub2Q",
        "colab_type": "text"
      },
      "source": [
        "<헤더>\n",
        "\n",
        "#제목\n",
        "##제목\n",
        "###제목\n",
        "####제목\n",
        "\n",
        "-----------------------------------------\n",
        "\n",
        "<글자>\n",
        "\n",
        "*이탤릭체*\n",
        "\n",
        "_이텔릭체_\n",
        "\n",
        "**굵은글씨**\n",
        "\n",
        "__굵은글씨__\n",
        "\n",
        "*동시에 __ 사용 __ 가능 *\n",
        "\n",
        "------------------------------------------\n",
        "\n",
        "<번호가 없는 리스트>\n",
        "* 첫째 리스트\n",
        "* 둘째 리스트\n",
        "  * 둘째리스트의 첫째 하위리스트\n",
        "  * 둘째리스트의 둘째 하위리스트\n",
        "* 셋째 리스트\n",
        "\n",
        "-------------------------------------------\n",
        "<번호가 있는 리스트>\n",
        "1. 첫째 리스트\n",
        "  2. 둘째 리스트\n",
        "    1. 둘째리스트의 첫째 하위 리스트\n",
        "    2. 둘째리스트의 둘째 하위 리스트\n",
        "  3. 셋째 리스트\n",
        "\n",
        "-------------------------------------------\n",
        "\n",
        "<링크>\n",
        "[구글](https://www.google.com)\n",
        "\n",
        "[네이버](https://sports.naver.com)\n",
        "\n",
        "--------------------------------------------\n",
        "<이미지>\n",
        "![이미지 설명](이미지 주소)\n",
        "\n",
        "\n"
      ]
    },
    {
      "cell_type": "code",
      "metadata": {
        "id": "yA_BPmmvBUpF",
        "colab_type": "code",
        "colab": {}
      },
      "source": [
        "# 환영인사 함수\n",
        "def hello(name):\n",
        "  return f'환영합니다. {name}님!'\n",
        "\n",
        "  "
      ],
      "execution_count": 0,
      "outputs": []
    },
    {
      "cell_type": "markdown",
      "metadata": {
        "id": "9IwaUJq1BdX3",
        "colab_type": "text"
      },
      "source": [
        "name = input('이름을 입력해주세요 : ')\n",
        "hello(name)"
      ]
    }
  ]
}